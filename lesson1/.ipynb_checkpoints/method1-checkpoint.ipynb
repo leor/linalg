{
 "cells": [
  {
   "cell_type": "markdown",
   "metadata": {},
   "source": [
    "## Методичка 1"
   ]
  },
  {
   "cell_type": "markdown",
   "metadata": {},
   "source": [
    "#### 1. Исследовать на линейную зависимость"
   ]
  },
  {
   "cell_type": "markdown",
   "metadata": {},
   "source": [
    "$ f_1(x) = e^x; f_2(x) = 1; f_3(x) = x + 1; f_4(x) = x - e^x $\n",
    "\n",
    "$ f_3(x) = f_4(x) + f_1(x) + f_2(x) $ - зависимость линейная"
   ]
  },
  {
   "cell_type": "markdown",
   "metadata": {},
   "source": [
    "#### 2. Исследовать на линейную зависимость"
   ]
  },
  {
   "cell_type": "markdown",
   "metadata": {},
   "source": [
    "$ f_1(x) = 2, f_2(x) = x, f_3(x) = x^2, f_4(x)= (x + 1)^2 $\n",
    "\n",
    "$ f_4(x) = f_3(x) + f_1(x) \\cdot f_2(x) + 0.5 \\cdot f_1(x) $ - зависимость линейная"
   ]
  },
  {
   "cell_type": "markdown",
   "metadata": {},
   "source": [
    "#### 3. Найти координаты вектора"
   ]
  },
  {
   "cell_type": "markdown",
   "metadata": {},
   "source": [
    "$ x = (2, 3, 5) \\in \\mathbb{R}^3, $ в базисе $ b_1 = (0, 0, 10), b_2 = (2, 0, 0), b_3 = (0, 1, 0). $\n",
    "\n",
    "$ x = (2, 3, 5) = (0, 0, 50) + (4, 0, 0) + (0, 3, 0) = 5 \\cdot b_1 + 2 \\cdot b_2 + 3 \\cdot b_3 $\n",
    "\n",
    "таким образом координаты вектора $ x $ в базисе $ b_1 = (0, 0, 10), b_2 = (2, 0, 0), b_3 = (0, 1, 0) $ есть (5, 2, 3)"
   ]
  },
  {
   "cell_type": "markdown",
   "metadata": {},
   "source": [
    "#### 4. Найти координаты вектора"
   ]
  },
  {
   "cell_type": "markdown",
   "metadata": {},
   "source": [
    "$ 3x^2 − 2x + 2 \\in \\mathbb{R}^3 [x] : $\n",
    "\n",
    "1. в базисе $ 1, x^2, x $\n",
    "\n",
    "2. в базисе $ x^2, x - 1, 1 $ \n",
    "\n",
    "Что-то я не понял как это делать :("
   ]
  },
  {
   "cell_type": "markdown",
   "metadata": {},
   "source": [
    "#### 5. Установить, является ли линейным подпространством:\n",
    "\n",
    "а) совокупность всех векторов трехмерного пространства, у которых по крайней мере одна из первых двух координат равна нулю;\n",
    "\n",
    "б) все векторы, являющиеся линейными комбинациями данных векторов  $ \\{u_1, u_2, u_3, ..., u_n\\} $."
   ]
  },
  {
   "cell_type": "code",
   "execution_count": null,
   "metadata": {},
   "outputs": [],
   "source": []
  }
 ],
 "metadata": {
  "kernelspec": {
   "display_name": "Python 3",
   "language": "python",
   "name": "python3"
  },
  "language_info": {
   "codemirror_mode": {
    "name": "ipython",
    "version": 3
   },
   "file_extension": ".py",
   "mimetype": "text/x-python",
   "name": "python",
   "nbconvert_exporter": "python",
   "pygments_lexer": "ipython3",
   "version": "3.7.1"
  }
 },
 "nbformat": 4,
 "nbformat_minor": 2
}
