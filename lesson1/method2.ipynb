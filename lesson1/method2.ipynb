{
 "cells": [
  {
   "cell_type": "markdown",
   "metadata": {},
   "source": [
    "## Методичка 2"
   ]
  },
  {
   "cell_type": "markdown",
   "metadata": {},
   "source": [
    "#### 1. Найти скалярное произведение векторов $ x, y \\in \\mathbb{R} $ :"
   ]
  },
  {
   "cell_type": "markdown",
   "metadata": {},
   "source": [
    "a) $ x = (0, −3, 6), y = (−4, 7, 9) $\n",
    "\n",
    "$ x * y = 0 \\cdot -4 + -3 \\cdot 7 + 6 \\cdot 9 = 0 + -21 + 54 = 33 $\n",
    "\n",
    "б) $ x = (7,−4,0,1), y = (−3,1,11,2) $\n",
    "\n",
    "$ x * y = 7 \\cdot -3 + -4 \\cdot 1 + 0 \\cdot 11 + 1 \\cdot 2 = -21 + -4 + 0 + 2 = -23 $"
   ]
  },
  {
   "cell_type": "markdown",
   "metadata": {},
   "source": [
    "#### 2. Найти нормы векторов  x = (4,2,4)  и y = (12,3,4)  и угол между ними.\n",
    "\n",
    "$ \\|x\\| = \\sqrt{4^2 + 2^2 + 4^2} = \\sqrt{16+4+16} = \\sqrt{36} $\n",
    "\n",
    "$ \\|y\\| = \\sqrt{12^2 + 2^2 + 4^2} = \\sqrt{144 + 4 + 16} = \\sqrt{164} $\n",
    "\n",
    "$ \\cos{\\varphi} = \\frac{(x, y)}{\\|x\\| \\cdot \\|y\\|} = \\frac{4\\cdot12 + 2\\cdot3 + 4\\cdot4}{\\sqrt{36} \\cdot \\sqrt{164}} = \\frac{24+6+16}{\\sqrt{5904}} = \\frac{46}{984} \\approx 0.047 $\n",
    "\n",
    "$ \\varphi \\approx 57.3^{\\circ} $"
   ]
  },
  {
   "cell_type": "markdown",
   "metadata": {},
   "source": [
    "#### 3. Будет ли линейное пространство евклидовым, если за скалярное произведение принять:\n",
    "\n",
    "а) произведение длин векторов;\n",
    "\n",
    "б) утроенное обычное скалярное произведение векторов?\n",
    "\n",
    "Не могу думать"
   ]
  },
  {
   "cell_type": "markdown",
   "metadata": {},
   "source": [
    "#### 4. Какие из нижеперечисленных векторов образуют ортонормированный базис в линейном пространстве  $ \\mathbb{R}^3 $ :\n",
    "а)  $ (1,0,0),(0,0,1); $ - вообще не базис\n",
    "\n",
    "б)  $ (\\frac{1}{\\sqrt{2}},-\\frac{1}{\\sqrt{2}},0),(\\frac{1}{\\sqrt{2}},\\frac{1}{\\sqrt{2}},0),(0,0,1); $ - ортонормированный базис\n",
    "\n",
    "в)  $ (\\frac{1}{2},-\\frac{1}{2},0),(0,\\frac{1}{2},\\frac{1}{2}),(0,0,1); $ - ортогональный базис\n",
    "\n",
    "г)  $ (1,0,0),(0,1,0),(0,0,1) $ - ортонормированный базис"
   ]
  },
  {
   "cell_type": "code",
   "execution_count": null,
   "metadata": {},
   "outputs": [],
   "source": []
  }
 ],
 "metadata": {
  "kernelspec": {
   "display_name": "Python 3",
   "language": "python",
   "name": "python3"
  },
  "language_info": {
   "codemirror_mode": {
    "name": "ipython",
    "version": 3
   },
   "file_extension": ".py",
   "mimetype": "text/x-python",
   "name": "python",
   "nbconvert_exporter": "python",
   "pygments_lexer": "ipython3",
   "version": "3.7.1"
  }
 },
 "nbformat": 4,
 "nbformat_minor": 2
}
