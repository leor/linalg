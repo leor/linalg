{
 "cells": [
  {
   "cell_type": "markdown",
   "metadata": {},
   "source": [
    "## Методичка 1"
   ]
  },
  {
   "cell_type": "markdown",
   "metadata": {},
   "source": [
    "#### 1. Установить, какие произведения матриц  𝐴𝐵  и  𝐵𝐴  определены, и найти размерности полученных матриц"
   ]
  },
  {
   "cell_type": "markdown",
   "metadata": {},
   "source": [
    "а) 𝐴 — матрица 4×2, 𝐵 — матрица  4×2  - произведение не определено\n",
    "\n",
    "б) 𝐴 — матрица  2×5, 𝐵 — матрица  5×3 - произведение определено, размерность результата 2×3\n",
    "\n",
    "в) 𝐴 — матрица  8×3, 𝐵 — матрица  3×8 - произведение определено, размерность результата 8×8\n",
    "\n",
    "г) 𝐴 — квадратная матрица 4×4, 𝐵 — квадратная матрица  4×4 - произведение определено, размерность результата 4×4"
   ]
  },
  {
   "cell_type": "markdown",
   "metadata": {},
   "source": [
    "#### 2. Найти сумму и произведение матриц  A и B"
   ]
  },
  {
   "cell_type": "markdown",
   "metadata": {},
   "source": [
    "\\begin{equation}\n",
    "A = \n",
    "\\left({\\begin{array}{cc}\n",
    "1 & -2 \\\\\n",
    "3 & 0\n",
    "\\end{array}}\\right)\n",
    "\\,\n",
    "B = \n",
    "\\left({\\begin{array}{cc}\n",
    "4 & -1 \\\\\n",
    "0 & 5\n",
    "\\end{array}}\\right)\n",
    "\\end{equation}"
   ]
  },
  {
   "cell_type": "markdown",
   "metadata": {},
   "source": [
    "\\begin{equation}\n",
    "A + B = \n",
    "\\left({\\begin{array}{cc}\n",
    "1 & -2 \\\\\n",
    "3 & 0\n",
    "\\end{array}}\\right)\n",
    "+\n",
    "\\left({\\begin{array}{cc}\n",
    "4 & -1 \\\\\n",
    "0 & 5\n",
    "\\end{array}}\\right)\n",
    " = \n",
    "\\left({\\begin{array}{cc}\n",
    "5 & -3 \\\\\n",
    "3 & 5\n",
    "\\end{array}}\\right)\n",
    "\\end{equation}"
   ]
  },
  {
   "cell_type": "markdown",
   "metadata": {},
   "source": [
    "\\begin{equation}\n",
    "A \\cdot B = \n",
    "\\left({\\begin{array}{cc}\n",
    "1 & -2 \\\\\n",
    "3 & 0\n",
    "\\end{array}}\\right)\n",
    "+\n",
    "\\left({\\begin{array}{cc}\n",
    "4 & -1 \\\\\n",
    "0 & 5\n",
    "\\end{array}}\\right)\n",
    " = \n",
    "\\left({\\begin{array}{cc}\n",
    "4 & -11 \\\\\n",
    "12 & -3\n",
    "\\end{array}}\\right)\n",
    "\\end{equation}"
   ]
  },
  {
   "cell_type": "code",
   "execution_count": 1,
   "metadata": {},
   "outputs": [
    {
     "name": "stdout",
     "output_type": "stream",
     "text": [
      "A + B =  [[ 5 -3]\n",
      " [ 3  5]]\n",
      "A * B =  [[  4 -11]\n",
      " [ 12  -3]]\n"
     ]
    }
   ],
   "source": [
    "import numpy as np\n",
    "\n",
    "a = np.array([[1, -2],[3, 0]])\n",
    "b = np.array([[4, -1],[0, 5]])\n",
    "\n",
    "print('A + B = ', a + b)\n",
    "print('A * B = ', a.dot(b))"
   ]
  },
  {
   "cell_type": "markdown",
   "metadata": {},
   "source": [
    "#### 3. Из закономерностей сложения и умножения матриц на число можно сделать вывод, что матрицы одного размера образуют линейное пространство. Вычислить линейную комбинацию  3A−2B+4C  для следующих матриц "
   ]
  },
  {
   "cell_type": "markdown",
   "metadata": {},
   "source": [
    "\\begin{equation}\n",
    "A = \n",
    "\\left({\\begin{array}{cc}\n",
    "1 & 7 \\\\\n",
    "3 & -6\n",
    "\\end{array}}\\right)\n",
    "\\,\n",
    "B = \n",
    "\\left({\\begin{array}{cc}\n",
    "0 & 5 \\\\\n",
    "2 & 1\n",
    "\\end{array}}\\right)\n",
    "\\,\n",
    "C = \n",
    "\\left({\\begin{array}{cc}\n",
    "2 & -4 \\\\\n",
    "1 & 1\n",
    "\\end{array}}\\right)\n",
    "\\end{equation}"
   ]
  },
  {
   "cell_type": "markdown",
   "metadata": {},
   "source": [
    "\\begin{equation}\n",
    "3A - 2B + 4C = \n",
    "3\\left({\\begin{array}{cc}\n",
    "1 & 7 \\\\\n",
    "3 & -6\n",
    "\\end{array}}\\right)\n",
    " -\n",
    "2\\left({\\begin{array}{cc}\n",
    "0 & 5 \\\\\n",
    "2 & 1\n",
    "\\end{array}}\\right)\n",
    " +\n",
    "4\\left({\\begin{array}{cc}\n",
    "2 & -4 \\\\\n",
    "1 & 1\n",
    "\\end{array}}\\right)\n",
    " =\n",
    "\\left({\\begin{array}{cc}\n",
    "3 & 21 \\\\\n",
    "9 & -18\n",
    "\\end{array}}\\right)\n",
    " -\n",
    "\\left({\\begin{array}{cc}\n",
    "0 & 10 \\\\\n",
    "4 & 2\n",
    "\\end{array}}\\right)\n",
    " +\n",
    "\\left({\\begin{array}{cc}\n",
    "8 & -16 \\\\\n",
    "4 & 4\n",
    "\\end{array}}\\right)\n",
    " =\n",
    "\\left({\\begin{array}{cc}\n",
    "3 & 11 \\\\\n",
    "5 & -20\n",
    "\\end{array}}\\right)\n",
    " +\n",
    "\\left({\\begin{array}{cc}\n",
    "8 & -16 \\\\\n",
    "4 & 4\n",
    "\\end{array}}\\right)\n",
    " =\n",
    "\\left({\\begin{array}{cc}\n",
    "11 & -5 \\\\\n",
    "9 & -16\n",
    "\\end{array}}\\right)\n",
    "\\end{equation}"
   ]
  },
  {
   "cell_type": "code",
   "execution_count": 3,
   "metadata": {},
   "outputs": [
    {
     "name": "stdout",
     "output_type": "stream",
     "text": [
      "3A - 2B + 4C =  [[ 11  -5]\n",
      " [  9 -16]]\n"
     ]
    }
   ],
   "source": [
    "a = np.array([[1, 7],[3, -6]])\n",
    "b = np.array([[0, 5],[2, 1]])\n",
    "c = np.array([[2, -4],[1, 1]])\n",
    "\n",
    "print('3A - 2B + 4C = ', 3*a - 2*b + 4*c)"
   ]
  },
  {
   "cell_type": "markdown",
   "metadata": {},
   "source": [
    "#### 4. Дана матрица  A. Вычислить  $AA^T$  и  $A^TA$ ."
   ]
  },
  {
   "cell_type": "markdown",
   "metadata": {},
   "source": [
    "\\begin{equation}\n",
    "A = \n",
    "\\left({\\begin{array}{cc}\n",
    "4 & 1 \\\\\n",
    "5 & -2 \\\\\n",
    "2 & 3\n",
    "\\end{array}}\\right)\n",
    "\\,\n",
    "A^T = \n",
    "\\left({\\begin{array}{ccc}\n",
    "4 & 5 & 2 \\\\\n",
    "1 & -2 & 3\n",
    "\\end{array}}\\right)\n",
    "\\end{equation}"
   ]
  },
  {
   "cell_type": "markdown",
   "metadata": {},
   "source": [
    "\\begin{equation}\n",
    "A \\cdot A^T = \n",
    "\\left({\\begin{array}{cc}\n",
    "4 & 1 \\\\\n",
    "5 & -2 \\\\\n",
    "2 & 3\n",
    "\\end{array}}\\right)\n",
    "\\cdot\n",
    "\\left({\\begin{array}{ccc}\n",
    "4 & 5 & 2 \\\\\n",
    "1 & -2 & 3\n",
    "\\end{array}}\\right)\n",
    " = \n",
    "\\left({\\begin{array}{ccc}\n",
    "17 & 18 & 11 \\\\\n",
    "18 & 29 & 4 \\\\\n",
    "11 & 4 & 13\n",
    "\\end{array}}\\right)\n",
    "\\end{equation}"
   ]
  },
  {
   "cell_type": "markdown",
   "metadata": {},
   "source": [
    "\\begin{equation}\n",
    "A^T \\cdot A = \n",
    "\\left({\\begin{array}{ccc}\n",
    "4 & 5 & 2 \\\\\n",
    "1 & -2 & 3\n",
    "\\end{array}}\\right)\n",
    "\\cdot\n",
    "\\left({\\begin{array}{cc}\n",
    "4 & 1 \\\\\n",
    "5 & -2 \\\\\n",
    "2 & 3\n",
    "\\end{array}}\\right)\n",
    " = \n",
    "\\left({\\begin{array}{cc}\n",
    "45 & 0 \\\\\n",
    "0 & 14\n",
    "\\end{array}}\\right)\n",
    "\\end{equation}"
   ]
  },
  {
   "cell_type": "code",
   "execution_count": 8,
   "metadata": {},
   "outputs": [
    {
     "name": "stdout",
     "output_type": "stream",
     "text": [
      "A.T =  [[ 4  5  2]\n",
      " [ 1 -2  3]]\n",
      "A * A.T =  [[17 18 11]\n",
      " [18 29  4]\n",
      " [11  4 13]]\n",
      "A.T * A =  [[45  0]\n",
      " [ 0 14]]\n"
     ]
    }
   ],
   "source": [
    "a = np.array([[4, 1],[5, -2],[2, 3]])\n",
    "\n",
    "print('A.T = ', a.T)\n",
    "print('A * A.T = ', a.dot(a.T))\n",
    "print('A.T * A = ', a.T.dot(a))"
   ]
  },
  {
   "cell_type": "markdown",
   "metadata": {},
   "source": [
    "#### 5*. Написать на Python функцию для перемножения двух произвольных матриц, не используя NumPy."
   ]
  },
  {
   "cell_type": "code",
   "execution_count": 113,
   "metadata": {},
   "outputs": [],
   "source": [
    "def matrix_multy(a, b):\n",
    "    if len(a[0]) != len(b):\n",
    "        raise Exception(f'Impossible to multiply matrixes with shapes {len(a[0])} and {len(b)}')\n",
    "        \n",
    "    c = []\n",
    "    for aa in a:\n",
    "        ct = []\n",
    "        for i in range(len(b[0])):\n",
    "            bb = [row[i] for row in b]\n",
    "            ct.append(sum([ai * bi for ai, bi in zip(aa,bb)]))\n",
    "        c.append(ct)\n",
    "    \n",
    "    return c"
   ]
  },
  {
   "cell_type": "code",
   "execution_count": 114,
   "metadata": {},
   "outputs": [
    {
     "data": {
      "text/plain": [
       "[[4, -11], [12, -3]]"
      ]
     },
     "execution_count": 114,
     "metadata": {},
     "output_type": "execute_result"
    }
   ],
   "source": [
    "a = [[1, -2],[3, 0]]\n",
    "b = [[4, -1],[0, 5]]\n",
    "\n",
    "matrix_multy(a, b)"
   ]
  },
  {
   "cell_type": "code",
   "execution_count": 115,
   "metadata": {},
   "outputs": [
    {
     "data": {
      "text/plain": [
       "[[17, 18, 11], [18, 29, 4], [11, 4, 13]]"
      ]
     },
     "execution_count": 115,
     "metadata": {},
     "output_type": "execute_result"
    }
   ],
   "source": [
    "a = [[4, 1],[5, -2],[2, 3]]\n",
    "b = [[4, 5, 2],[1, -2, 3]]\n",
    "\n",
    "matrix_multy(a, b)"
   ]
  },
  {
   "cell_type": "code",
   "execution_count": null,
   "metadata": {},
   "outputs": [],
   "source": []
  }
 ],
 "metadata": {
  "kernelspec": {
   "display_name": "Python 3",
   "language": "python",
   "name": "python3"
  },
  "language_info": {
   "codemirror_mode": {
    "name": "ipython",
    "version": 3
   },
   "file_extension": ".py",
   "mimetype": "text/x-python",
   "name": "python",
   "nbconvert_exporter": "python",
   "pygments_lexer": "ipython3",
   "version": "3.7.1"
  }
 },
 "nbformat": 4,
 "nbformat_minor": 2
}
