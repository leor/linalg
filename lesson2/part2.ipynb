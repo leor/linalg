{
 "cells": [
  {
   "cell_type": "markdown",
   "metadata": {},
   "source": [
    "# Методичка 2"
   ]
  },
  {
   "cell_type": "markdown",
   "metadata": {},
   "source": [
    "#### 1. Вычислить определитель:"
   ]
  },
  {
   "cell_type": "markdown",
   "metadata": {},
   "source": [
    "a) \\begin{equation}\n",
    "\\begin{vmatrix}\n",
    "sin{x} & -cos{x}\\\\\n",
    "cos{x} & sin{x}\n",
    "\\end{vmatrix}\n",
    " =\n",
    "sin^2{x} + cos^2{x}\n",
    "\\end{equation}"
   ]
  },
  {
   "cell_type": "markdown",
   "metadata": {},
   "source": [
    "б)\n",
    "\\begin{equation}\n",
    "\\begin{vmatrix}\n",
    "4 & 2 & 3\\\\\n",
    "0 & 5 & 1\\\\\n",
    "0 & 0 & 9\n",
    "\\end{vmatrix}\n",
    " = 4 \\cdot 5 \\cdot 9 = 180\n",
    "\\end{equation}"
   ]
  },
  {
   "cell_type": "markdown",
   "metadata": {},
   "source": [
    "в)\n",
    "\\begin{equation}\n",
    "\\begin{vmatrix}\n",
    "1 & 2 & 3\\\\\n",
    "4 & 5 & 6\\\\\n",
    "7 & 8 & 9\n",
    "\\end{vmatrix}\n",
    " = \n",
    "1\\begin{vmatrix}\n",
    "5 & 6\\\\\n",
    "8 & 9\n",
    "\\end{vmatrix}\n",
    " -\n",
    "2\\begin{vmatrix}\n",
    "4 & 6\\\\\n",
    "7 & 9\n",
    "\\end{vmatrix}\n",
    " +\n",
    "3\\begin{vmatrix}\n",
    "4 & 5\\\\\n",
    "7 & 8\n",
    "\\end{vmatrix}\n",
    " =\n",
    "(45 - 48) - 2(36 - 42) + 3(32 - 35) = -3 + 12 - 9 = 0\n",
    "\\end{equation}"
   ]
  },
  {
   "cell_type": "markdown",
   "metadata": {},
   "source": [
    "#### 2. Определитель матрицы  𝐴  равен  4 . Найти:"
   ]
  },
  {
   "cell_type": "markdown",
   "metadata": {},
   "source": [
    "а) $ det(A^2) = 16 $  \n",
    "б) $ det(A^T) = 4 $  \n",
    "в) $ det(2A) = 8 $"
   ]
  },
  {
   "cell_type": "markdown",
   "metadata": {},
   "source": [
    "#### 3. Доказать, что матрица вырожденная"
   ]
  },
  {
   "cell_type": "markdown",
   "metadata": {},
   "source": [
    "\\begin{equation}\n",
    "\\begin{vmatrix}\n",
    "-2 & 7 & -3\\\\\n",
    "4 & -14 & 6\\\\\n",
    "-3 & 7 & 13\n",
    "\\end{vmatrix}\n",
    " =\n",
    "\\begin{vmatrix}\n",
    "-4 & 14 & -6\\\\\n",
    "4 & -14 & 6\\\\\n",
    "-3 & 7 & 13\n",
    "\\end{vmatrix}\n",
    " =\n",
    "\\begin{vmatrix}\n",
    "0 & 0 & 0\\\\\n",
    "4 & -14 & 6\\\\\n",
    "-3 & 7 & 13\n",
    "\\end{vmatrix}\n",
    " = 0\n",
    "\\end{equation}\n",
    "\n",
    "т.к. det = 0, матрица является вырожденной"
   ]
  },
  {
   "cell_type": "code",
   "execution_count": 3,
   "metadata": {},
   "outputs": [
    {
     "name": "stdout",
     "output_type": "stream",
     "text": [
      "Определитель A = 0\n"
     ]
    }
   ],
   "source": [
    "import numpy as np\n",
    "\n",
    "a = np.array([[-2, 7, -3],[4, -14, 6], [-3, 7, 13]])\n",
    "print(f'Определитель A = {np.linalg.det(a):.0f}')"
   ]
  },
  {
   "cell_type": "markdown",
   "metadata": {},
   "source": [
    "#### 4. Найти ранг матрицы"
   ]
  },
  {
   "cell_type": "markdown",
   "metadata": {},
   "source": [
    "a)\n",
    "\\begin{equation}\n",
    "\\begin{pmatrix}\n",
    "1 & 2 & 3\\\\\n",
    "1 & 1 & 1\\\\\n",
    "2 & 3 & 4\n",
    "\\end{pmatrix}\n",
    "\\end{equation}\n",
    "3я строка - сумма 1 и 2. Отбросим её\n",
    "\\begin{equation}\n",
    "\\begin{pmatrix}\n",
    "1 & 2 & 3\\\\\n",
    "1 & 1 & 1\n",
    "\\end{pmatrix}\n",
    "\\end{equation}\n",
    "вычтем из 1 строки 2ю и поменяем их местами\n",
    "\\begin{equation}\n",
    "\\begin{pmatrix}\n",
    "1 & 1 & 1\\\\\n",
    "0 & 1 & 2\n",
    "\\end{pmatrix}\n",
    "\\end{equation}\n",
    "ранк матрицы равен 2"
   ]
  },
  {
   "cell_type": "code",
   "execution_count": 2,
   "metadata": {},
   "outputs": [
    {
     "name": "stdout",
     "output_type": "stream",
     "text": [
      "Ранк матрицы А =  2\n"
     ]
    }
   ],
   "source": [
    "a = np.array([[1,2,3],[1,1,1],[2,3,4]])\n",
    "print('Ранк матрицы А = ', np.linalg.matrix_rank(a))"
   ]
  },
  {
   "cell_type": "markdown",
   "metadata": {},
   "source": [
    "б)\n",
    "\\begin{equation}\n",
    "\\begin{pmatrix}\n",
    "0 & 0 & 2 & 1\\\\\n",
    "0 & 0 & 2 & 2\\\\\n",
    "0 & 0 & 4 & 3\\\\\n",
    "2 & 3 & 5 & 6\n",
    "\\end{pmatrix}\n",
    "\\end{equation}\n",
    "3я строка - сумма 1 и 2. Отбросим её\n",
    "\\begin{equation}\n",
    "\\begin{pmatrix}\n",
    "0 & 0 & 2 & 1\\\\\n",
    "0 & 0 & 2 & 2\\\\\n",
    "2 & 3 & 5 & 6\n",
    "\\end{pmatrix}\n",
    "\\end{equation}\n",
    "поменяем местами 1ю и 3ю строку\n",
    "\\begin{equation}\n",
    "\\begin{pmatrix}\n",
    "2 & 3 & 5 & 6\\\\\n",
    "0 & 0 & 2 & 2\\\\\n",
    "0 & 0 & 2 & 1\n",
    "\\end{pmatrix}\n",
    "\\end{equation}\n",
    "ранк матрицы равен 3"
   ]
  },
  {
   "cell_type": "code",
   "execution_count": 4,
   "metadata": {},
   "outputs": [
    {
     "name": "stdout",
     "output_type": "stream",
     "text": [
      "Ранк матрицы А =  3\n"
     ]
    }
   ],
   "source": [
    "a = np.array([[0,0,2,1],[0,0,2,2],[0,0,4,3],[2,3,5,6]])\n",
    "print('Ранк матрицы А = ', np.linalg.matrix_rank(a))"
   ]
  },
  {
   "cell_type": "code",
   "execution_count": null,
   "metadata": {},
   "outputs": [],
   "source": []
  }
 ],
 "metadata": {
  "kernelspec": {
   "display_name": "Python 3",
   "language": "python",
   "name": "python3"
  },
  "language_info": {
   "codemirror_mode": {
    "name": "ipython",
    "version": 3
   },
   "file_extension": ".py",
   "mimetype": "text/x-python",
   "name": "python",
   "nbconvert_exporter": "python",
   "pygments_lexer": "ipython3",
   "version": "3.7.1"
  }
 },
 "nbformat": 4,
 "nbformat_minor": 2
}
