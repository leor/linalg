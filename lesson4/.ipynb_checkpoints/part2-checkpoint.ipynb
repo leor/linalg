{
 "cells": [
  {
   "cell_type": "markdown",
   "metadata": {},
   "source": [
    "#### 1. Решить систему уравнений методом Крамера:"
   ]
  },
  {
   "cell_type": "markdown",
   "metadata": {},
   "source": [
    "а) \\begin{equation}\n",
    "\\begin{cases}\n",
    "x_1−2x_2=13\\\\\n",
    "x_1−4x_2=7\n",
    "\\end{cases}\n",
    "\\end{equation}\n"
   ]
  },
  {
   "cell_type": "markdown",
   "metadata": {},
   "source": [
    "$ detA = -2 $\n",
    "\n",
    "$ detA_1 = -52 + 14 = -38 $\n",
    "\n",
    "$ detA_2 = -6 $"
   ]
  },
  {
   "cell_type": "markdown",
   "metadata": {},
   "source": [
    "$ x_1 = \\frac{-38}{-2} = 19 $\n",
    "\n",
    "$ x_2 = \\frac{-6}{-2} = 3 $"
   ]
  },
  {
   "cell_type": "markdown",
   "metadata": {},
   "source": [
    "б) \\begin{equation}\n",
    "\\begin{cases}\n",
    "2x_1−x_2+5x_3=10\\\\\n",
    "x_1+x_2-3x_3=-2\\\\\n",
    "2x_1+4x_2+x_3=1\n",
    "\\end{cases}\n",
    "\\end{equation}"
   ]
  },
  {
   "cell_type": "markdown",
   "metadata": {},
   "source": [
    "$ detA = 2*13 - -1*7 + 5*2 = 26 + 7 + 10 = 43 $\n",
    "\n",
    "$ detA_1 = 10*13 - -1 + 5*-9 = 130+1-45 = 86 $\n",
    "\n",
    "$ detA_2 = 2 - 10*7 + 5*5 = 2 - 70 + 25 = -43 $\n",
    "\n",
    "$ detA_3 = 2*9 - -1*5 + 10*2 = 18 + 5 + 20 = 43 $\n",
    "\n",
    "$ x_1 = \\frac{43}{86} = \\frac{1}{2} $\n",
    "\n",
    "$ x_2 = \\frac{43}{-43} = -1 $\n",
    "\n",
    "$ x_3 = \\frac{43}{43} = 1 $"
   ]
  },
  {
   "cell_type": "markdown",
   "metadata": {},
   "source": [
    "#### 2. Найти  𝐿 -матрицу  𝐿𝑈 -разложения для матрицы коэффициентов:"
   ]
  },
  {
   "cell_type": "markdown",
   "metadata": {},
   "source": [
    "а) \\begin{equation}\n",
    "A = \n",
    "\\begin{pmatrix}\n",
    "1 & 2& 4\\\\\n",
    "2 & 9 & 12\\\\\n",
    "3 & 26 & 30\n",
    "\\end{pmatrix}\n",
    "\\end{equation}"
   ]
  },
  {
   "cell_type": "markdown",
   "metadata": {},
   "source": [
    "\\begin{equation}\n",
    "L = \n",
    "\\begin{pmatrix}\n",
    "1 & 0 & 0\\\\\n",
    "2 & 1 & 0\\\\\n",
    "3 & 4 & 1\n",
    "\\end{pmatrix}\n",
    "\\end{equation}"
   ]
  },
  {
   "cell_type": "markdown",
   "metadata": {},
   "source": [
    "б) \\begin{equation}\n",
    "A = \n",
    "\\begin{pmatrix}\n",
    "1 & 1 & 2& 4\\\\\n",
    "2 & 5 & 8 & 9\\\\\n",
    "3 & 18 & 29 & 18\\\\\n",
    "4 & 22 & 53 & 33\n",
    "\\end{pmatrix}\n",
    "\\end{equation}"
   ]
  },
  {
   "cell_type": "markdown",
   "metadata": {},
   "source": [
    "\\begin{equation}\n",
    "L = \n",
    "\\begin{pmatrix}\n",
    "1 & 0 & 0 & 0\\\\\n",
    "2 & 1 & 0 & 0\\\\\n",
    "3 & 5 & 1 & 0\\\\\n",
    "4 & 6 & 7 & 1\n",
    "\\end{pmatrix}\n",
    "\\end{equation}"
   ]
  },
  {
   "cell_type": "markdown",
   "metadata": {},
   "source": [
    "####  3. Решить систему линейных уравнений методом  𝐿𝑈 -разложения\n",
    "\n",
    "\\begin{equation}\n",
    "\\begin{cases}\n",
    "2x_1 + x_2 + 3x_3 = 1\\\\\n",
    "11x_1 + 7x_2 + 5x_3 = -6\\\\\n",
    "9x_1 + 8x_2 + 4x_3 = -5\n",
    "\\end{cases}\n",
    "\\end{equation}"
   ]
  },
  {
   "cell_type": "markdown",
   "metadata": {},
   "source": [
    "\\begin{equation}\n",
    "U = \n",
    "\\begin{pmatrix}\n",
    "2 & 1& 3\\\\\n",
    "0 & 1.5 & -11.5\\\\\n",
    "0 & 0 & 20\n",
    "\\end{pmatrix}\n",
    "\\end{equation}\n",
    "\n",
    "\\begin{equation}\n",
    "L = \n",
    "\\begin{pmatrix}\n",
    "1 & 2& 0\\\\\n",
    "5.5 & 1 & 0\\\\\n",
    "4.5 & 3.5 & 1\n",
    "\\end{pmatrix}\n",
    "\\end{equation}"
   ]
  },
  {
   "cell_type": "markdown",
   "metadata": {},
   "source": [
    "решим системы $ Ly = b $"
   ]
  },
  {
   "cell_type": "markdown",
   "metadata": {},
   "source": [
    "\\begin{equation}\n",
    "\\begin{cases}\n",
    "y_1 = 1\\\\\n",
    "5.5y_1 + y_2 = -6\\\\\n",
    "4.5y_1 + 3.5y_2 + y_3 = -5\n",
    "\\end{cases}\n",
    "\\end{equation}\n",
    "\n",
    "$$ y_1 = 1 $$\n",
    "$$ y_2 = -11.5 $$\n",
    "$$ y_3 = 30.75 $$"
   ]
  },
  {
   "cell_type": "markdown",
   "metadata": {},
   "source": [
    "\\begin{equation}\n",
    "\\begin{cases}\n",
    "2x_1 + x_2 + 3x_3 = 1\\\\\n",
    "1.5x_2 - 11.5x_3 = -11.5\\\\\n",
    "20x_3 = 30.75\n",
    "\\end{cases}\n",
    "\\end{equation}\n",
    "\n",
    "$$ x_3 = 1.5375 $$\n",
    "$$ x_2 \\approx 4.1208 $$\n",
    "$$ x_1 \\approx 0.746 $$"
   ]
  },
  {
   "cell_type": "markdown",
   "metadata": {},
   "source": [
    "#### 4.  Решить систему линейных уравнений методом Холецкого\n",
    "\n",
    "\\begin{equation}\n",
    "\\begin{cases}\n",
    "81x_1 - 45x_2 + 45x_3 = 531\\\\\n",
    "-45x_1 + 50x_2 - 15x_3 = -460\\\\\n",
    "45x_1 - 15x_2 + 38x_3 = 193\n",
    "\\end{cases}\n",
    "\\end{equation}"
   ]
  },
  {
   "cell_type": "markdown",
   "metadata": {},
   "source": [
    "$ l_{11} = \\sqrt{81} = 9 $  \n",
    "$ l_{21} = \\frac{-45}{9} = -5 $  \n",
    "$ l_{31} = \\frac{45}{9} = 5 $\n",
    "\n",
    "$ l_{22} = \\sqrt{50 - 25} = 5 $  \n",
    "$ l_{32} = \\frac{1}{5}\\sqrt{-15 + 25} = \\frac{\\sqrt{10}}{5} $\n",
    "\n",
    "$ l_{33} = \\sqrt{38-25-\\frac{10}{25}} = \\sqrt{13.6} $"
   ]
  },
  {
   "cell_type": "markdown",
   "metadata": {},
   "source": [
    "\\begin{equation}\n",
    "L = \n",
    "\\begin{pmatrix}\n",
    "9 & 0& 0\\\\\n",
    "-5 & 5 & 0\\\\\n",
    "5 & \\frac{\\sqrt{10}}{5} & \\sqrt{13.6}\n",
    "\\end{pmatrix},\n",
    "L^T = \n",
    "\\begin{pmatrix}\n",
    "9 & -5 & 5\\\\\n",
    "0 & 5 & \\frac{\\sqrt{10}}{5}\\\\\n",
    "0 & 0 & \\sqrt{13.6}\n",
    "\\end{pmatrix}\n",
    "\\end{equation}\n",
    "решим $ Ly = b $"
   ]
  },
  {
   "cell_type": "markdown",
   "metadata": {},
   "source": [
    "\\begin{equation}\n",
    "\\begin{cases}\n",
    "9y_1 = 531\\\\\n",
    "-5y_1 + 5y_2 = -460\\\\\n",
    "5x_1 - \\frac{\\sqrt{10}}{5}y_2 + \\sqrt{13.6}y_3 = 193\n",
    "\\end{cases}\n",
    "\\\\\n",
    "\\begin{cases}\n",
    "y_1 = 59\\\\\n",
    "y_2 = -31\\\\\n",
    "y_3 = \\frac{-102 + \\frac{\\sqrt{10}}{5}31}{\\sqrt{13.6}}\n",
    "\\end{cases}\n",
    "\\end{equation}\n",
    "\n",
    "что-то я совсем запутался..."
   ]
  },
  {
   "cell_type": "code",
   "execution_count": null,
   "metadata": {},
   "outputs": [],
   "source": []
  }
 ],
 "metadata": {
  "kernelspec": {
   "display_name": "Python 3",
   "language": "python",
   "name": "python3"
  },
  "language_info": {
   "codemirror_mode": {
    "name": "ipython",
    "version": 3
   },
   "file_extension": ".py",
   "mimetype": "text/x-python",
   "name": "python",
   "nbconvert_exporter": "python",
   "pygments_lexer": "ipython3",
   "version": "3.7.1"
  }
 },
 "nbformat": 4,
 "nbformat_minor": 2
}
