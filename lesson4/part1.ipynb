{
 "cells": [
  {
   "cell_type": "markdown",
   "metadata": {},
   "source": [
    "#### 1. Решить систему уравнений методом Гаусса:\n",
    "\n",
    "\\begin{equation}\n",
    "\\begin{cases}\n",
    "x_1 + x_2 - x_3 - 2x_4 = 0\\\\\n",
    "2x_1 + x_2 - x_3 + x_4 = -2\\\\\n",
    "x_1 + x_2 - 3x_3 + x_4 = 4\n",
    "\\end{cases}\n",
    "\\end{equation}"
   ]
  },
  {
   "cell_type": "markdown",
   "metadata": {},
   "source": [
    "\\begin{equation}\n",
    "\\left(\\begin{array}{rrrr|r}\n",
    "1 & 1 & -1 & -2 & 0 \\\\\n",
    "2 & 1 & -1 & 1 & -2 \\\\\n",
    "1 & 1 & -3 & 1 & 4\n",
    "\\end{array}\\right)\n",
    "\\\\\n",
    "\\left(\\begin{array}{rrrr|r}\n",
    "1 & 1 & -1 & -2 & 0 \\\\\n",
    "0 & 1 & -1 & -5 & 2 \\\\\n",
    "0 & 0 & 2 & -3 & -4\n",
    "\\end{array}\\right)\n",
    "\\end{equation}"
   ]
  },
  {
   "cell_type": "markdown",
   "metadata": {},
   "source": [
    "$$ x_4 = c $$\n",
    "$$ 2x_3 - 3c = -4 \\Leftrightarrow x_3 = \\frac{-4 + 3c}{2} $$\n",
    "$$ x_2 - \\frac{-4 + 3c}{2} -5c = -2 \\Leftrightarrow x_2 = -2 + \\frac{-4 + 3c}{2} + 5c $$\n",
    "$$ x_1 - 2 + \\frac{-4 + 3c}{2} + 5c - \\frac{-4 + 3c}{2} - 2c = 0 \\Leftrightarrow x_1 = 2 - \\frac{-4 + 3c}{2} - 5c + \\frac{-4 + 3c}{2} + 2c $$\n",
    "\n",
    "система имеет бесконечное множество решений"
   ]
  },
  {
   "cell_type": "markdown",
   "metadata": {},
   "source": [
    "#### 2. Проверить на совместность и выяснить, сколько решений будет иметь система линейных уравнений:"
   ]
  },
  {
   "cell_type": "markdown",
   "metadata": {},
   "source": [
    "a) \\begin{equation}\n",
    "\\begin{cases}\n",
    "3x_1 - x_2 + x_3 = 4\\\\\n",
    "2x_1 - 5x_2 - 3x_3 = -17\\\\\n",
    "x_1 + x_2 - x_3 = 0\n",
    "\\end{cases}\n",
    "\\end{equation}\n",
    "\n",
    "сложим 1 и 3 уравнения, и получим \n",
    "$$ x_1 = 1 $$\n",
    "и дальше\n",
    "$$ x_2 = 2 $$\n",
    "$$ x_3 = 3 $$"
   ]
  },
  {
   "cell_type": "markdown",
   "metadata": {},
   "source": [
    "б) \n",
    "\\begin{equation}\n",
    "\\begin{cases}\n",
    "2x_1 - 4x_2 + 6x_3 = 1\\\\\n",
    "x_1 - 2x_2 + 3x_3 = -2\\\\\n",
    "3x_1 - 6x_2 + 9x_3 = 5\n",
    "\\end{cases}\n",
    "\\end{equation}\n",
    "\n",
    "векторы $ a_1, a_2, a_3 $ линейно зависимы, а вектор $ b $ не лежит в подпространстве этих веторов, а значит система не имеет решений"
   ]
  },
  {
   "cell_type": "markdown",
   "metadata": {},
   "source": [
    "в) \\begin{equation}\n",
    "\\begin{cases}\n",
    "x_1 + 2x_2 + 5x_3 = 4\\\\\n",
    "3x_1 + x_2 - 8x_3 = -2\n",
    "\\end{cases}\n",
    "\\end{equation}\n",
    "\n",
    "система имеет бесконечное множество решений"
   ]
  },
  {
   "cell_type": "markdown",
   "metadata": {},
   "source": [
    "#### 3. Проверить на совместность и выяснить, сколько решений будет иметь система линейных уравнений, заданная расширенной матрицей\n",
    "\n",
    "\\begin{equation}\n",
    "\\tilde{A} = \n",
    "\\left(\\begin{array}{rrrr|r}\n",
    "1& 3& -2 & 4 & 3 \\\\\n",
    "0& 5 & 0 & 1 & 2\\\\\n",
    "0 & 0 & 3 & 0 & 4\\\\\n",
    "0 & 0 & 0 & 2 & 1\n",
    "\\end{array}\\right)\n",
    "\\end{equation}\n",
    "\n",
    "совместна и имеет 1 решение"
   ]
  },
  {
   "cell_type": "markdown",
   "metadata": {},
   "source": [
    "#### 4. Дана система линейных уравнений, заданная расширенной матрицей. Найти соотношение между параметрами  𝑎 ,  𝑏  и  𝑐 , при которых система является несовместной.\n",
    "\n",
    "\\begin{equation}\n",
    "\\tilde{A} = \n",
    "\\left(\\begin{array}{rrr|r}\n",
    "1& 2& 3 & a \\\\\n",
    "4& 5 & 6 & b\\\\\n",
    "7 & 8 & 9 & c\\\\\n",
    "\\end{array}\\right)\n",
    "\\end{equation}\n",
    "\n",
    "система несовместна при $ rankA < rank\\tilde{A} $\n",
    "\n",
    "как найти соответствие - голова не варит :("
   ]
  },
  {
   "cell_type": "code",
   "execution_count": null,
   "metadata": {},
   "outputs": [],
   "source": [
    "    "
   ]
  }
 ],
 "metadata": {
  "kernelspec": {
   "display_name": "Python 3",
   "language": "python",
   "name": "python3"
  },
  "language_info": {
   "codemirror_mode": {
    "name": "ipython",
    "version": 3
   },
   "file_extension": ".py",
   "mimetype": "text/x-python",
   "name": "python",
   "nbconvert_exporter": "python",
   "pygments_lexer": "ipython3",
   "version": "3.7.1"
  }
 },
 "nbformat": 4,
 "nbformat_minor": 2
}
