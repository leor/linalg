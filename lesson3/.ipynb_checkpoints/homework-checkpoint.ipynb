{
 "cells": [
  {
   "cell_type": "markdown",
   "metadata": {},
   "source": [
    "#### 1. Найти собственные векторы и собственные значения для линейного оператора, заданного матрицей"
   ]
  },
  {
   "cell_type": "markdown",
   "metadata": {},
   "source": [
    "\\begin{equation}\n",
    "A = \n",
    "\\begin{pmatrix}\n",
    "-1 & -6 \\\\\n",
    "2 & 6\n",
    "\\end{pmatrix}\n",
    "\\end{equation}\n",
    "\n",
    "Составим и реших характеристическое уравнение\n",
    "\n",
    "\\begin{equation}\n",
    "\\begin{vmatrix}\n",
    "-1-\\lambda & -6 \\\\\n",
    "2 & 6-\\lambda\n",
    "\\end{vmatrix} = 0\n",
    "\\end{equation}\n",
    "\n",
    "$$ (-1-\\lambda)(6-\\lambda) - (-6)\\cdot2 = 0 $$\n",
    "$$ -6-6\\lambda+\\lambda+\\lambda^2 + 12 = 0 $$\n",
    "$$ \\lambda^2 - 5\\lambda + 6 = 0 $$\n",
    "$$ D = 25 - 24 = 1 $$\n",
    "$$ \\lambda_1 = \\frac{5 + 1}{2} = 3 $$\n",
    "$$ \\lambda_2 = \\frac{5 - 1}{2} = 2 $$"
   ]
  },
  {
   "cell_type": "markdown",
   "metadata": {},
   "source": [
    "Найдём собственный векторы вида\n",
    "\\begin{pmatrix}\n",
    "x_1 \\\\\n",
    "x_2\n",
    "\\end{pmatrix}\n",
    "подставив его в уравнение $Ax = \\lambda x $\n",
    "\n",
    "\\begin{equation}\n",
    "\\begin{pmatrix}\n",
    "-1 & -6 \\\\\n",
    "2 & 6\n",
    "\\end{pmatrix}\n",
    "\\begin{pmatrix}\n",
    "x_1 \\\\\n",
    "x_2\n",
    "\\end{pmatrix}\n",
    " = \n",
    "\\lambda\n",
    "\\begin{pmatrix}\n",
    "x_1 \\\\\n",
    "x_2\n",
    "\\end{pmatrix}\n",
    "\\end{equation}\n",
    "\n",
    "\\begin{equation}\n",
    "\\begin{cases}\n",
    "-1x_1 + (-6)x_2 = \\lambda x_1\\\\\n",
    "2x_1 + 6x_2 = \\lambda x_2\n",
    "\\end{cases}\n",
    "\\end{equation}\n",
    "\n",
    "\\begin{equation}\n",
    "\\begin{cases}\n",
    "(-1 - \\lambda)x_1 - 6x_2 = 0\\\\\n",
    "2x_1 + (6 - \\lambda) x_2 = 0\n",
    "\\end{cases}\n",
    "\\end{equation}"
   ]
  },
  {
   "cell_type": "markdown",
   "metadata": {},
   "source": [
    "Возьмём $ \\lambda_1 = 3 $ и подставим в систему\n",
    "\n",
    "\\begin{equation}\n",
    "\\begin{cases}\n",
    "-4x_1 - 6x_2 = 0\\\\\n",
    "2x_1 + 3 x_2 = 0\n",
    "\\end{cases}\n",
    "\\Rightarrow\n",
    "\\begin{cases}\n",
    "x_1 = -\\frac{3x_2}{2} \\\\\n",
    "6x_2 - 6x_2 = 0\n",
    "\\end{cases}\n",
    "\\end{equation}\n",
    "\n",
    "получаем бесконечное множество решений. Выберем из него один вектор, например:\n",
    "\\begin{equation}\n",
    "\\begin{pmatrix}\n",
    "-3\\\\\n",
    "2\n",
    "\\end{pmatrix}\n",
    "\\end{equation}"
   ]
  },
  {
   "cell_type": "markdown",
   "metadata": {},
   "source": [
    "Возьмём  $\\lambda_2=2$  и подставим в систему\n",
    "\n",
    "\\begin{equation}\n",
    "\\begin{cases}\n",
    "-3x_1 - 6x_2 = 0\\\\\n",
    "2x_1 + 4 x_2 = 0\n",
    "\\end{cases}\n",
    "\\Rightarrow\n",
    "\\begin{cases}\n",
    "x_1 = -2x_2 \\\\\n",
    "6x_2 - 6x_2 = 0\n",
    "\\end{cases}\n",
    "\\end{equation}\n",
    "\n",
    "получаем бесконечное множество решений. Выберем из него один вектор, например:\n",
    "\\begin{equation}\n",
    "\\begin{pmatrix}\n",
    "-2\\\\\n",
    "1\n",
    "\\end{pmatrix}\n",
    "\\end{equation}"
   ]
  },
  {
   "cell_type": "markdown",
   "metadata": {},
   "source": [
    "В итоге имеем собственные числа $ \\lambda_1 = 3 $ и $ \\lambda_2 = 2 $, а так же собственные векторы:\n",
    "\\begin{equation}\n",
    "\\begin{pmatrix}\n",
    "-3\\\\\n",
    "2\n",
    "\\end{pmatrix} и\n",
    "\\begin{pmatrix}\n",
    "-2\\\\\n",
    "1\n",
    "\\end{pmatrix}\n",
    "\\end{equation}"
   ]
  },
  {
   "cell_type": "code",
   "execution_count": 2,
   "metadata": {},
   "outputs": [
    {
     "name": "stdout",
     "output_type": "stream",
     "text": [
      "Матрица: [[-1 -6]\n",
      " [ 2  6]]\n",
      "Собственные значения: [2. 3.]\n",
      "Собственные векторы: [[-0.89442719  0.83205029]\n",
      " [ 0.4472136  -0.5547002 ]]\n"
     ]
    }
   ],
   "source": [
    "import numpy as np\n",
    "\n",
    "a = np.array([[-1, -6],[2, 6]])\n",
    "w, v = np.linalg.eig(a)\n",
    "\n",
    "print(f'Матрица: {a}')\n",
    "print(f'Собственные значения: {w}')\n",
    "print(f'Собственные векторы: {v}')"
   ]
  },
  {
   "cell_type": "markdown",
   "metadata": {},
   "source": [
    "#### 2. Дан оператор поворота на 180 градусов, задаваемый матрицей A. Показать, что любой вектор является для него собственным.\n",
    "\n",
    "\\begin{equation}\n",
    "A = \n",
    "\\begin{pmatrix}\n",
    "-1 & 0\\\\\n",
    "0 & -1\n",
    "\\end{pmatrix}\n",
    "\\end{equation}"
   ]
  },
  {
   "cell_type": "markdown",
   "metadata": {},
   "source": [
    "Предположим, что некий вектор $x = (a, b)$ является его собственным вектором, тогда есть\n",
    "\n",
    "\\begin{equation}\n",
    "\\begin{pmatrix}\n",
    "-1-\\lambda & 0 \\\\\n",
    "0 & -1-\\lambda\n",
    "\\end{pmatrix}\n",
    "\\begin{pmatrix}\n",
    "a \\\\\n",
    "b\n",
    "\\end{pmatrix}\n",
    " = \n",
    "\\lambda\n",
    "\\begin{pmatrix}\n",
    "a \\\\\n",
    "b\n",
    "\\end{pmatrix}\n",
    "\\end{equation}\n",
    "\n",
    "\\begin{equation}\n",
    "\\begin{cases}\n",
    "(-1-\\lambda)a + 0b - \\lambda a = 0 \\\\\n",
    "0a + (-1-\\lambda)b - \\lambda b = 0\n",
    "\\end{cases}\n",
    "\\Rightarrow\n",
    "\\begin{cases}\n",
    "-a - 2 \\lambda a = 0 \\\\\n",
    "-b - 2 \\lambda b = 0\n",
    "\\end{cases}\n",
    "\\Rightarrow\n",
    "\\begin{cases}\n",
    "-a(1 + 2 \\lambda) = 0 \\\\\n",
    "-b(1 + 2 \\lambda) = 0\n",
    "\\end{cases}\n",
    "\\end{equation}\n",
    "\n",
    "система имеет бескоечное множество решений, а значит любой вектор может быть совтсвенным для линейного оператора A"
   ]
  },
  {
   "cell_type": "markdown",
   "metadata": {},
   "source": [
    "#### 3. Пусть линейный оператор задан матрицей A. Установить, является ли вектор  $ x=(1,1) $  собственным вектором этого линейного оператора.\n",
    "\n",
    "\\begin{equation}\n",
    "A = \n",
    "\\begin{pmatrix}\n",
    "1 & 1\\\\\n",
    "-1 & -3\n",
    "\\end{pmatrix}\n",
    "\\end{equation}"
   ]
  },
  {
   "cell_type": "markdown",
   "metadata": {},
   "source": [
    "Предположим, что вектор $ x $ является собственным вектором заданного линейного оператора, тогда должно существовать некоторое вещественное число $\\lambda$, при котором\n",
    "\n",
    "\\begin{equation}\n",
    "\\begin{pmatrix}\n",
    "1-\\lambda & 1 \\\\\n",
    "-1 & -3-\\lambda\n",
    "\\end{pmatrix}\n",
    "\\begin{pmatrix}\n",
    "1 \\\\\n",
    "1\n",
    "\\end{pmatrix}\n",
    " = \n",
    "\\lambda \n",
    "\\begin{pmatrix}\n",
    "1 \\\\\n",
    "1\n",
    "\\end{pmatrix}\n",
    "\\end{equation}"
   ]
  },
  {
   "cell_type": "markdown",
   "metadata": {},
   "source": [
    "\\begin{equation}\n",
    "\\begin{cases}\n",
    "1 - \\lambda + 1 - \\lambda = 0 \\\\\n",
    "-1 -3 -\\lambda - \\lambda = 0\n",
    "\\end{cases}\n",
    "\\Rightarrow\n",
    "\\begin{cases}\n",
    "2 - 2 \\lambda = 0 \\\\\n",
    "-4 - 2 \\lambda = 0\n",
    "\\end{cases}\n",
    "\\Rightarrow\n",
    "\\begin{cases}\n",
    "\\lambda = 1 \\\\\n",
    "\\lambda = 2\n",
    "\\end{cases}\n",
    "\\end{equation}\n",
    "\n",
    "Решение не имеет смысла, а значит вектор $ x $ не является собственным вектором $ A $"
   ]
  },
  {
   "cell_type": "markdown",
   "metadata": {},
   "source": [
    "#### 4. Пусть линейный оператор задан матрицей A. Установить, является ли вектор  $ 𝑥=(3, -3, -4) $  собственным вектором этого линейного оператора.\n",
    "\n",
    "\\begin{equation}\n",
    "A = \n",
    "\\begin{pmatrix}\n",
    "0 & 3 & 0\\\\\n",
    "3 & 0 & 0 \\\\\n",
    "0 & 0 & 3\n",
    "\\end{pmatrix}\n",
    "\\end{equation}"
   ]
  },
  {
   "cell_type": "markdown",
   "metadata": {},
   "source": [
    "Предположим, что вектор $ x $ является собственным вектором заданного линейного оператора, тогда должно существовать некоторое вещественное число $\\lambda$, при котором\n",
    "\n",
    "\\begin{equation}\n",
    "\\begin{pmatrix}\n",
    "0-\\lambda & 3 & 0 \\\\\n",
    "-3 & 0 - \\lambda & 0 \\\\\n",
    "0 & 0 & 3 - \\lambda\n",
    "\\end{pmatrix}\n",
    "\\begin{pmatrix}\n",
    "3 \\\\\n",
    "-3 \\\\\n",
    "-4\n",
    "\\end{pmatrix}\n",
    " = \n",
    "\\lambda\n",
    "\\begin{pmatrix}\n",
    "3 \\\\\n",
    "-3 \\\\\n",
    "-4\n",
    "\\end{pmatrix}\n",
    "\\end{equation}"
   ]
  },
  {
   "cell_type": "markdown",
   "metadata": {},
   "source": [
    "\\begin{equation}\n",
    "\\begin{cases}\n",
    "-3\\lambda - 9 + 0 - 3\\lambda = 0 \\\\\n",
    "-9 + 3\\lambda + 0 + 3\\lambda = 0 \\\\\n",
    "0 + 0 - 4(3-\\lambda) + 4\\lambda = 0\n",
    "\\end{cases}\n",
    "\\Rightarrow\n",
    "\\begin{cases}\n",
    "-6\\lambda - 9 = 0 \\\\\n",
    "-9 + 6\\lambda = 0 \\\\\n",
    "-12 + 8\\lambda = 0\n",
    "\\end{cases}\n",
    "\\Rightarrow\n",
    "\\begin{cases}\n",
    "-2\\lambda = 3 \\\\\n",
    "2\\lambda = 3 \\\\\n",
    "2\\lambda = 3\n",
    "\\end{cases}\n",
    "\\end{equation}\n",
    "\n",
    "Имеем $ \\lambda_1 = -\\frac{3}{2} $ и $ \\lambda_2 = \\frac{3}{2} $, значит вектор x является собственным вектором линейного оператора A"
   ]
  },
  {
   "cell_type": "code",
   "execution_count": null,
   "metadata": {},
   "outputs": [],
   "source": []
  }
 ],
 "metadata": {
  "kernelspec": {
   "display_name": "Python 3",
   "language": "python",
   "name": "python3"
  },
  "language_info": {
   "codemirror_mode": {
    "name": "ipython",
    "version": 3
   },
   "file_extension": ".py",
   "mimetype": "text/x-python",
   "name": "python",
   "nbconvert_exporter": "python",
   "pygments_lexer": "ipython3",
   "version": "3.7.1"
  }
 },
 "nbformat": 4,
 "nbformat_minor": 2
}
